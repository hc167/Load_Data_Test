{
 "cells": [
  {
   "cell_type": "code",
   "execution_count": 1,
   "metadata": {},
   "outputs": [
    {
     "name": "stderr",
     "output_type": "stream",
     "text": [
      "Using TensorFlow backend.\n"
     ]
    }
   ],
   "source": [
    "import pandas as pd\n",
    "import numpy as np\n",
    "from sklearn import preprocessing\n",
    "import matplotlib.pyplot as plt \n",
    "%matplotlib inline\n",
    "plt.rc(\"font\", size=14)\n",
    "from sklearn.linear_model import LogisticRegression\n",
    "from sklearn.model_selection import train_test_split, StratifiedKFold, cross_val_score\n",
    "import seaborn as sns\n",
    "\n",
    "from sklearn import metrics\n",
    "from sklearn.model_selection import cross_validate\n",
    "from sklearn.linear_model import LogisticRegressionCV\n",
    "from sklearn.metrics import log_loss, f1_score\n",
    "from sklearn.preprocessing import LabelEncoder\n",
    "\n",
    "from keras.wrappers.scikit_learn import KerasClassifier\n",
    "from keras.models import Sequential, Model\n",
    "from keras.layers import Dense, Dropout\n",
    "\n",
    "sns.set(style=\"white\")\n",
    "sns.set(style=\"whitegrid\", color_codes=True)"
   ]
  },
  {
   "cell_type": "markdown",
   "metadata": {},
   "source": [
    "Load data from csv file"
   ]
  },
  {
   "cell_type": "code",
   "execution_count": 2,
   "metadata": {
    "collapsed": true
   },
   "outputs": [],
   "source": [
    "data = pd.read_csv('DR_Demo_Lending_Club.csv', header=0)"
   ]
  },
  {
   "cell_type": "code",
   "execution_count": 3,
   "metadata": {},
   "outputs": [
    {
     "data": {
      "text/html": [
       "<div>\n",
       "<style scoped>\n",
       "    .dataframe tbody tr th:only-of-type {\n",
       "        vertical-align: middle;\n",
       "    }\n",
       "\n",
       "    .dataframe tbody tr th {\n",
       "        vertical-align: top;\n",
       "    }\n",
       "\n",
       "    .dataframe thead th {\n",
       "        text-align: right;\n",
       "    }\n",
       "</style>\n",
       "<table border=\"1\" class=\"dataframe\">\n",
       "  <thead>\n",
       "    <tr style=\"text-align: right;\">\n",
       "      <th></th>\n",
       "      <th>Id</th>\n",
       "      <th>is_bad</th>\n",
       "      <th>annual_inc</th>\n",
       "      <th>debt_to_income</th>\n",
       "      <th>delinq_2yrs</th>\n",
       "      <th>inq_last_6mths</th>\n",
       "      <th>mths_since_last_delinq</th>\n",
       "      <th>mths_since_last_record</th>\n",
       "      <th>open_acc</th>\n",
       "      <th>pub_rec</th>\n",
       "      <th>revol_bal</th>\n",
       "      <th>revol_util</th>\n",
       "      <th>total_acc</th>\n",
       "      <th>collections_12_mths_ex_med</th>\n",
       "      <th>mths_since_last_major_derog</th>\n",
       "    </tr>\n",
       "  </thead>\n",
       "  <tbody>\n",
       "    <tr>\n",
       "      <th>count</th>\n",
       "      <td>10000.00000</td>\n",
       "      <td>10000.000000</td>\n",
       "      <td>9999.000000</td>\n",
       "      <td>10000.000000</td>\n",
       "      <td>9995.000000</td>\n",
       "      <td>9995.000000</td>\n",
       "      <td>3684.000000</td>\n",
       "      <td>840.000000</td>\n",
       "      <td>9995.000000</td>\n",
       "      <td>9995.000000</td>\n",
       "      <td>1.000000e+04</td>\n",
       "      <td>9974.000000</td>\n",
       "      <td>9995.000000</td>\n",
       "      <td>9968.0</td>\n",
       "      <td>10000.000000</td>\n",
       "    </tr>\n",
       "    <tr>\n",
       "      <th>mean</th>\n",
       "      <td>5000.50000</td>\n",
       "      <td>0.129500</td>\n",
       "      <td>68203.011539</td>\n",
       "      <td>13.338704</td>\n",
       "      <td>0.148174</td>\n",
       "      <td>1.066933</td>\n",
       "      <td>35.890337</td>\n",
       "      <td>61.652381</td>\n",
       "      <td>9.334567</td>\n",
       "      <td>0.060130</td>\n",
       "      <td>1.427101e+04</td>\n",
       "      <td>48.450771</td>\n",
       "      <td>22.011306</td>\n",
       "      <td>0.0</td>\n",
       "      <td>2.002200</td>\n",
       "    </tr>\n",
       "    <tr>\n",
       "      <th>std</th>\n",
       "      <td>2886.89568</td>\n",
       "      <td>0.335769</td>\n",
       "      <td>48590.252757</td>\n",
       "      <td>6.754212</td>\n",
       "      <td>0.506270</td>\n",
       "      <td>1.476052</td>\n",
       "      <td>22.361443</td>\n",
       "      <td>46.189619</td>\n",
       "      <td>4.526590</td>\n",
       "      <td>0.251245</td>\n",
       "      <td>2.543791e+04</td>\n",
       "      <td>28.220557</td>\n",
       "      <td>11.709400</td>\n",
       "      <td>0.0</td>\n",
       "      <td>0.810963</td>\n",
       "    </tr>\n",
       "    <tr>\n",
       "      <th>min</th>\n",
       "      <td>1.00000</td>\n",
       "      <td>0.000000</td>\n",
       "      <td>2000.000000</td>\n",
       "      <td>0.000000</td>\n",
       "      <td>0.000000</td>\n",
       "      <td>0.000000</td>\n",
       "      <td>0.000000</td>\n",
       "      <td>0.000000</td>\n",
       "      <td>1.000000</td>\n",
       "      <td>0.000000</td>\n",
       "      <td>0.000000e+00</td>\n",
       "      <td>0.000000</td>\n",
       "      <td>1.000000</td>\n",
       "      <td>0.0</td>\n",
       "      <td>1.000000</td>\n",
       "    </tr>\n",
       "    <tr>\n",
       "      <th>25%</th>\n",
       "      <td>2500.75000</td>\n",
       "      <td>0.000000</td>\n",
       "      <td>40000.000000</td>\n",
       "      <td>8.160000</td>\n",
       "      <td>0.000000</td>\n",
       "      <td>0.000000</td>\n",
       "      <td>18.000000</td>\n",
       "      <td>0.000000</td>\n",
       "      <td>6.000000</td>\n",
       "      <td>0.000000</td>\n",
       "      <td>3.524500e+03</td>\n",
       "      <td>25.000000</td>\n",
       "      <td>13.000000</td>\n",
       "      <td>0.0</td>\n",
       "      <td>1.000000</td>\n",
       "    </tr>\n",
       "    <tr>\n",
       "      <th>50%</th>\n",
       "      <td>5000.50000</td>\n",
       "      <td>0.000000</td>\n",
       "      <td>58000.000000</td>\n",
       "      <td>13.410000</td>\n",
       "      <td>0.000000</td>\n",
       "      <td>1.000000</td>\n",
       "      <td>34.000000</td>\n",
       "      <td>86.000000</td>\n",
       "      <td>9.000000</td>\n",
       "      <td>0.000000</td>\n",
       "      <td>8.645500e+03</td>\n",
       "      <td>48.700000</td>\n",
       "      <td>20.000000</td>\n",
       "      <td>0.0</td>\n",
       "      <td>2.000000</td>\n",
       "    </tr>\n",
       "    <tr>\n",
       "      <th>75%</th>\n",
       "      <td>7500.25000</td>\n",
       "      <td>0.000000</td>\n",
       "      <td>82000.000000</td>\n",
       "      <td>18.692500</td>\n",
       "      <td>0.000000</td>\n",
       "      <td>2.000000</td>\n",
       "      <td>53.000000</td>\n",
       "      <td>101.000000</td>\n",
       "      <td>12.000000</td>\n",
       "      <td>0.000000</td>\n",
       "      <td>1.695225e+04</td>\n",
       "      <td>71.800000</td>\n",
       "      <td>29.000000</td>\n",
       "      <td>0.0</td>\n",
       "      <td>3.000000</td>\n",
       "    </tr>\n",
       "    <tr>\n",
       "      <th>max</th>\n",
       "      <td>10000.00000</td>\n",
       "      <td>1.000000</td>\n",
       "      <td>900000.000000</td>\n",
       "      <td>29.990000</td>\n",
       "      <td>11.000000</td>\n",
       "      <td>25.000000</td>\n",
       "      <td>120.000000</td>\n",
       "      <td>119.000000</td>\n",
       "      <td>39.000000</td>\n",
       "      <td>3.000000</td>\n",
       "      <td>1.207359e+06</td>\n",
       "      <td>100.600000</td>\n",
       "      <td>90.000000</td>\n",
       "      <td>0.0</td>\n",
       "      <td>3.000000</td>\n",
       "    </tr>\n",
       "  </tbody>\n",
       "</table>\n",
       "</div>"
      ],
      "text/plain": [
       "                Id        is_bad     annual_inc  debt_to_income  delinq_2yrs  \\\n",
       "count  10000.00000  10000.000000    9999.000000    10000.000000  9995.000000   \n",
       "mean    5000.50000      0.129500   68203.011539       13.338704     0.148174   \n",
       "std     2886.89568      0.335769   48590.252757        6.754212     0.506270   \n",
       "min        1.00000      0.000000    2000.000000        0.000000     0.000000   \n",
       "25%     2500.75000      0.000000   40000.000000        8.160000     0.000000   \n",
       "50%     5000.50000      0.000000   58000.000000       13.410000     0.000000   \n",
       "75%     7500.25000      0.000000   82000.000000       18.692500     0.000000   \n",
       "max    10000.00000      1.000000  900000.000000       29.990000    11.000000   \n",
       "\n",
       "       inq_last_6mths  mths_since_last_delinq  mths_since_last_record  \\\n",
       "count     9995.000000             3684.000000              840.000000   \n",
       "mean         1.066933               35.890337               61.652381   \n",
       "std          1.476052               22.361443               46.189619   \n",
       "min          0.000000                0.000000                0.000000   \n",
       "25%          0.000000               18.000000                0.000000   \n",
       "50%          1.000000               34.000000               86.000000   \n",
       "75%          2.000000               53.000000              101.000000   \n",
       "max         25.000000              120.000000              119.000000   \n",
       "\n",
       "          open_acc      pub_rec     revol_bal   revol_util    total_acc  \\\n",
       "count  9995.000000  9995.000000  1.000000e+04  9974.000000  9995.000000   \n",
       "mean      9.334567     0.060130  1.427101e+04    48.450771    22.011306   \n",
       "std       4.526590     0.251245  2.543791e+04    28.220557    11.709400   \n",
       "min       1.000000     0.000000  0.000000e+00     0.000000     1.000000   \n",
       "25%       6.000000     0.000000  3.524500e+03    25.000000    13.000000   \n",
       "50%       9.000000     0.000000  8.645500e+03    48.700000    20.000000   \n",
       "75%      12.000000     0.000000  1.695225e+04    71.800000    29.000000   \n",
       "max      39.000000     3.000000  1.207359e+06   100.600000    90.000000   \n",
       "\n",
       "       collections_12_mths_ex_med  mths_since_last_major_derog  \n",
       "count                      9968.0                 10000.000000  \n",
       "mean                          0.0                     2.002200  \n",
       "std                           0.0                     0.810963  \n",
       "min                           0.0                     1.000000  \n",
       "25%                           0.0                     1.000000  \n",
       "50%                           0.0                     2.000000  \n",
       "75%                           0.0                     3.000000  \n",
       "max                           0.0                     3.000000  "
      ]
     },
     "execution_count": 3,
     "metadata": {},
     "output_type": "execute_result"
    }
   ],
   "source": [
    "data.describe()"
   ]
  },
  {
   "cell_type": "code",
   "execution_count": 4,
   "metadata": {},
   "outputs": [
    {
     "data": {
      "text/html": [
       "<div>\n",
       "<style scoped>\n",
       "    .dataframe tbody tr th:only-of-type {\n",
       "        vertical-align: middle;\n",
       "    }\n",
       "\n",
       "    .dataframe tbody tr th {\n",
       "        vertical-align: top;\n",
       "    }\n",
       "\n",
       "    .dataframe thead th {\n",
       "        text-align: right;\n",
       "    }\n",
       "</style>\n",
       "<table border=\"1\" class=\"dataframe\">\n",
       "  <thead>\n",
       "    <tr style=\"text-align: right;\">\n",
       "      <th></th>\n",
       "      <th>Id</th>\n",
       "      <th>is_bad</th>\n",
       "      <th>emp_title</th>\n",
       "      <th>emp_length</th>\n",
       "      <th>home_ownership</th>\n",
       "      <th>annual_inc</th>\n",
       "      <th>verification_status</th>\n",
       "      <th>pymnt_plan</th>\n",
       "      <th>Notes</th>\n",
       "      <th>purpose_cat</th>\n",
       "      <th>...</th>\n",
       "      <th>mths_since_last_record</th>\n",
       "      <th>open_acc</th>\n",
       "      <th>pub_rec</th>\n",
       "      <th>revol_bal</th>\n",
       "      <th>revol_util</th>\n",
       "      <th>total_acc</th>\n",
       "      <th>initial_list_status</th>\n",
       "      <th>collections_12_mths_ex_med</th>\n",
       "      <th>mths_since_last_major_derog</th>\n",
       "      <th>policy_code</th>\n",
       "    </tr>\n",
       "  </thead>\n",
       "  <tbody>\n",
       "    <tr>\n",
       "      <th>0</th>\n",
       "      <td>1</td>\n",
       "      <td>0</td>\n",
       "      <td>Time Warner Cable</td>\n",
       "      <td>10</td>\n",
       "      <td>MORTGAGE</td>\n",
       "      <td>50000.0</td>\n",
       "      <td>not verified</td>\n",
       "      <td>n</td>\n",
       "      <td>NaN</td>\n",
       "      <td>medical</td>\n",
       "      <td>...</td>\n",
       "      <td>NaN</td>\n",
       "      <td>15.0</td>\n",
       "      <td>0.0</td>\n",
       "      <td>12087</td>\n",
       "      <td>12.1</td>\n",
       "      <td>44.0</td>\n",
       "      <td>f</td>\n",
       "      <td>0.0</td>\n",
       "      <td>1</td>\n",
       "      <td>PC4</td>\n",
       "    </tr>\n",
       "    <tr>\n",
       "      <th>1</th>\n",
       "      <td>2</td>\n",
       "      <td>0</td>\n",
       "      <td>Ottawa University</td>\n",
       "      <td>1</td>\n",
       "      <td>RENT</td>\n",
       "      <td>39216.0</td>\n",
       "      <td>not verified</td>\n",
       "      <td>n</td>\n",
       "      <td>Borrower added on 04/14/11 &gt; I will be using...</td>\n",
       "      <td>debt consolidation</td>\n",
       "      <td>...</td>\n",
       "      <td>NaN</td>\n",
       "      <td>4.0</td>\n",
       "      <td>0.0</td>\n",
       "      <td>10114</td>\n",
       "      <td>64.0</td>\n",
       "      <td>5.0</td>\n",
       "      <td>f</td>\n",
       "      <td>0.0</td>\n",
       "      <td>2</td>\n",
       "      <td>PC1</td>\n",
       "    </tr>\n",
       "    <tr>\n",
       "      <th>2</th>\n",
       "      <td>3</td>\n",
       "      <td>0</td>\n",
       "      <td>Kennedy Wilson</td>\n",
       "      <td>4</td>\n",
       "      <td>RENT</td>\n",
       "      <td>65000.0</td>\n",
       "      <td>not verified</td>\n",
       "      <td>n</td>\n",
       "      <td>NaN</td>\n",
       "      <td>credit card</td>\n",
       "      <td>...</td>\n",
       "      <td>NaN</td>\n",
       "      <td>4.0</td>\n",
       "      <td>0.0</td>\n",
       "      <td>81</td>\n",
       "      <td>0.6</td>\n",
       "      <td>8.0</td>\n",
       "      <td>f</td>\n",
       "      <td>0.0</td>\n",
       "      <td>3</td>\n",
       "      <td>PC4</td>\n",
       "    </tr>\n",
       "    <tr>\n",
       "      <th>3</th>\n",
       "      <td>4</td>\n",
       "      <td>0</td>\n",
       "      <td>TOWN OF PLATTEKILL</td>\n",
       "      <td>10</td>\n",
       "      <td>MORTGAGE</td>\n",
       "      <td>57500.0</td>\n",
       "      <td>not verified</td>\n",
       "      <td>n</td>\n",
       "      <td>NaN</td>\n",
       "      <td>debt consolidation</td>\n",
       "      <td>...</td>\n",
       "      <td>NaN</td>\n",
       "      <td>6.0</td>\n",
       "      <td>0.0</td>\n",
       "      <td>10030</td>\n",
       "      <td>37.1</td>\n",
       "      <td>23.0</td>\n",
       "      <td>f</td>\n",
       "      <td>0.0</td>\n",
       "      <td>2</td>\n",
       "      <td>PC2</td>\n",
       "    </tr>\n",
       "    <tr>\n",
       "      <th>4</th>\n",
       "      <td>5</td>\n",
       "      <td>0</td>\n",
       "      <td>Belmont Correctional</td>\n",
       "      <td>10</td>\n",
       "      <td>MORTGAGE</td>\n",
       "      <td>50004.0</td>\n",
       "      <td>VERIFIED - income</td>\n",
       "      <td>n</td>\n",
       "      <td>I want to consolidate my debt, pay for a vacat...</td>\n",
       "      <td>debt consolidation</td>\n",
       "      <td>...</td>\n",
       "      <td>NaN</td>\n",
       "      <td>8.0</td>\n",
       "      <td>0.0</td>\n",
       "      <td>10740</td>\n",
       "      <td>40.4</td>\n",
       "      <td>21.0</td>\n",
       "      <td>f</td>\n",
       "      <td>0.0</td>\n",
       "      <td>3</td>\n",
       "      <td>PC3</td>\n",
       "    </tr>\n",
       "  </tbody>\n",
       "</table>\n",
       "<p>5 rows × 28 columns</p>\n",
       "</div>"
      ],
      "text/plain": [
       "   Id  is_bad             emp_title emp_length home_ownership  annual_inc  \\\n",
       "0   1       0     Time Warner Cable         10       MORTGAGE     50000.0   \n",
       "1   2       0     Ottawa University          1           RENT     39216.0   \n",
       "2   3       0        Kennedy Wilson          4           RENT     65000.0   \n",
       "3   4       0    TOWN OF PLATTEKILL         10       MORTGAGE     57500.0   \n",
       "4   5       0  Belmont Correctional         10       MORTGAGE     50004.0   \n",
       "\n",
       "  verification_status pymnt_plan  \\\n",
       "0        not verified          n   \n",
       "1        not verified          n   \n",
       "2        not verified          n   \n",
       "3        not verified          n   \n",
       "4   VERIFIED - income          n   \n",
       "\n",
       "                                               Notes         purpose_cat  ...  \\\n",
       "0                                                NaN             medical  ...   \n",
       "1    Borrower added on 04/14/11 > I will be using...  debt consolidation  ...   \n",
       "2                                                NaN         credit card  ...   \n",
       "3                                                NaN  debt consolidation  ...   \n",
       "4  I want to consolidate my debt, pay for a vacat...  debt consolidation  ...   \n",
       "\n",
       "  mths_since_last_record open_acc pub_rec  revol_bal  revol_util total_acc  \\\n",
       "0                    NaN     15.0     0.0      12087        12.1      44.0   \n",
       "1                    NaN      4.0     0.0      10114        64.0       5.0   \n",
       "2                    NaN      4.0     0.0         81         0.6       8.0   \n",
       "3                    NaN      6.0     0.0      10030        37.1      23.0   \n",
       "4                    NaN      8.0     0.0      10740        40.4      21.0   \n",
       "\n",
       "   initial_list_status  collections_12_mths_ex_med  \\\n",
       "0                    f                         0.0   \n",
       "1                    f                         0.0   \n",
       "2                    f                         0.0   \n",
       "3                    f                         0.0   \n",
       "4                    f                         0.0   \n",
       "\n",
       "   mths_since_last_major_derog  policy_code  \n",
       "0                            1          PC4  \n",
       "1                            2          PC1  \n",
       "2                            3          PC4  \n",
       "3                            2          PC2  \n",
       "4                            3          PC3  \n",
       "\n",
       "[5 rows x 28 columns]"
      ]
     },
     "execution_count": 4,
     "metadata": {},
     "output_type": "execute_result"
    }
   ],
   "source": [
    "data.head()"
   ]
  },
  {
   "cell_type": "code",
   "execution_count": 5,
   "metadata": {},
   "outputs": [
    {
     "name": "stdout",
     "output_type": "stream",
     "text": [
      "percentage of bad loan is  12.950000000000001\n",
      "percentage of good loan is  87.05000000000001\n"
     ]
    }
   ],
   "source": [
    "count_bad = len(data[data['is_bad']==1])\n",
    "count_good = len(data[data['is_bad']==0])\n",
    "pct_of_bad = count_bad/(count_bad+count_good)\n",
    "print(\"percentage of bad loan is \", pct_of_bad*100)\n",
    "pct_of_good = count_good/(count_bad+count_good)\n",
    "print(\"percentage of good loan is \", pct_of_good*100)"
   ]
  },
  {
   "cell_type": "code",
   "execution_count": 6,
   "metadata": {
    "collapsed": true
   },
   "outputs": [],
   "source": [
    "data = data.drop('emp_title', axis = 1)\n",
    "data = data.drop('Notes', axis = 1)"
   ]
  },
  {
   "cell_type": "code",
   "execution_count": 7,
   "metadata": {
    "collapsed": true
   },
   "outputs": [],
   "source": [
    "data = data.drop('zip_code', axis = 1)\n",
    "data = data.drop('initial_list_status', axis = 1)\n",
    "data = data.drop('pymnt_plan', axis = 1)\n",
    "data = data.drop('policy_code', axis = 1)\n",
    "data = data.drop('home_ownership', axis = 1)\n",
    "data = data.drop('purpose', axis = 1) \n",
    "\n",
    "data = data.drop('collections_12_mths_ex_med', axis = 1)\n",
    "data = data.drop('delinq_2yrs', axis = 1)\n",
    "data = data.drop('inq_last_6mths', axis = 1)\n",
    "data = data.drop('mths_since_last_record', axis = 1)\n",
    "data = data.drop('total_acc', axis = 1)\n",
    "data = data.drop('revol_util', axis = 1)\n",
    "data = data.drop('pub_rec', axis = 1)\n",
    "\n",
    "# I have to remove this one since there are just too many NAN there.\n",
    "data = data.drop('mths_since_last_delinq', axis = 1)"
   ]
  },
  {
   "cell_type": "code",
   "execution_count": 8,
   "metadata": {},
   "outputs": [
    {
     "name": "stdout",
     "output_type": "stream",
     "text": [
      "['Id', 'is_bad', 'emp_length', 'annual_inc', 'verification_status', 'purpose_cat', 'addr_state', 'debt_to_income', 'earliest_cr_line', 'open_acc', 'revol_bal', 'mths_since_last_major_derog']\n"
     ]
    }
   ],
   "source": [
    "print(list(data.columns))"
   ]
  },
  {
   "cell_type": "code",
   "execution_count": 9,
   "metadata": {
    "collapsed": true
   },
   "outputs": [],
   "source": [
    "data['annual_inc'].fillna(data['annual_inc'].median(), inplace=True)\n",
    "data['earliest_cr_line'].fillna(data['earliest_cr_line'].value_counts().index[0], inplace=True)\n",
    "data['open_acc'].fillna(data['open_acc'].median(), inplace=True)"
   ]
  },
  {
   "cell_type": "code",
   "execution_count": 10,
   "metadata": {
    "collapsed": true
   },
   "outputs": [],
   "source": [
    "for i in data:\n",
    "    if data[i].isna().values.any():\n",
    "        print(i, \"There is NULL Values\")"
   ]
  },
  {
   "cell_type": "code",
   "execution_count": 11,
   "metadata": {},
   "outputs": [
    {
     "data": {
      "image/png": "[encoded data removed]",
      "text/plain": [
       "<matplotlib.figure.Figure at 0x10ccdbc18>"
      ]
     },
     "metadata": {},
     "output_type": "display_data"
    }
   ],
   "source": [
    "data.annual_inc.hist()\n",
    "plt.title('Histogram of yearly income')\n",
    "plt.xlabel('Income')\n",
    "plt.ylabel('Frequency')\n",
    "plt.savefig('hist_age')"
   ]
  },
  {
   "cell_type": "code",
   "execution_count": 12,
   "metadata": {},
   "outputs": [],
   "source": [
    "for column in data.columns:\n",
    "    if data[column].dtype == type(object):\n",
    "        le = LabelEncoder()\n",
    "        data[column] = le.fit_transform(data[column])\n",
    "\n",
    "# Not worrying about one hot encoding at this time."
   ]
  },
  {
   "cell_type": "code",
   "execution_count": 13,
   "metadata": {},
   "outputs": [
    {
     "name": "stdout",
     "output_type": "stream",
     "text": [
      "count    10000.00000\n",
      "mean      5000.50000\n",
      "std       2886.89568\n",
      "min          1.00000\n",
      "25%       2500.75000\n",
      "50%       5000.50000\n",
      "75%       7500.25000\n",
      "max      10000.00000\n",
      "Name: Id, dtype: float64\n",
      "count    10000.000000\n",
      "mean         0.129500\n",
      "std          0.335769\n",
      "min          0.000000\n",
      "25%          0.000000\n",
      "50%          0.000000\n",
      "75%          0.000000\n",
      "max          1.000000\n",
      "Name: is_bad, dtype: float64\n",
      "count    10000.000000\n",
      "mean         4.335200\n",
      "std          4.018639\n",
      "min          0.000000\n",
      "25%          1.000000\n",
      "50%          3.000000\n",
      "75%          8.000000\n",
      "max         13.000000\n",
      "Name: emp_length, dtype: float64\n",
      "count     10000.000000\n",
      "mean      68201.991238\n",
      "std       48587.930068\n",
      "min        2000.000000\n",
      "25%       40000.000000\n",
      "50%       58000.000000\n",
      "75%       82000.000000\n",
      "max      900000.000000\n",
      "Name: annual_inc, dtype: float64\n",
      "count    10000.000000\n",
      "mean         1.115300\n",
      "std          0.863065\n",
      "min          0.000000\n",
      "25%          0.000000\n",
      "50%          1.000000\n",
      "75%          2.000000\n",
      "max          2.000000\n",
      "Name: verification_status, dtype: float64\n",
      "count    10000.000000\n",
      "mean         7.852600\n",
      "std          6.707412\n",
      "min          0.000000\n",
      "25%          4.000000\n",
      "50%          4.000000\n",
      "75%         12.000000\n",
      "max         26.000000\n",
      "Name: purpose_cat, dtype: float64\n",
      "count    10000.000000\n",
      "mean        22.108300\n",
      "std         14.864806\n",
      "min          0.000000\n",
      "25%          6.000000\n",
      "50%         22.000000\n",
      "75%         34.000000\n",
      "max         49.000000\n",
      "Name: addr_state, dtype: float64\n",
      "count    10000.000000\n",
      "mean        13.338704\n",
      "std          6.754212\n",
      "min          0.000000\n",
      "25%          8.160000\n",
      "50%         13.410000\n",
      "75%         18.692500\n",
      "max         29.990000\n",
      "Name: debt_to_income, dtype: float64\n",
      "count    10000.000000\n",
      "mean       250.311100\n",
      "std        138.875669\n",
      "min          0.000000\n",
      "25%        131.000000\n",
      "50%        258.000000\n",
      "75%        378.000000\n",
      "max        462.000000\n",
      "Name: earliest_cr_line, dtype: float64\n",
      "count    10000.000000\n",
      "mean         9.334400\n",
      "std          4.525464\n",
      "min          1.000000\n",
      "25%          6.000000\n",
      "50%          9.000000\n",
      "75%         12.000000\n",
      "max         39.000000\n",
      "Name: open_acc, dtype: float64\n",
      "count    1.000000e+04\n",
      "mean     1.427101e+04\n",
      "std      2.543791e+04\n",
      "min      0.000000e+00\n",
      "25%      3.524500e+03\n",
      "50%      8.645500e+03\n",
      "75%      1.695225e+04\n",
      "max      1.207359e+06\n",
      "Name: revol_bal, dtype: float64\n",
      "count    10000.000000\n",
      "mean         2.002200\n",
      "std          0.810963\n",
      "min          1.000000\n",
      "25%          1.000000\n",
      "50%          2.000000\n",
      "75%          3.000000\n",
      "max          3.000000\n",
      "Name: mths_since_last_major_derog, dtype: float64\n"
     ]
    }
   ],
   "source": [
    "for i in data:\n",
    "    print(data[i].describe())"
   ]
  },
  {
   "cell_type": "code",
   "execution_count": 14,
   "metadata": {
    "collapsed": true
   },
   "outputs": [],
   "source": [
    "#cat_vars=['verification_status', 'purpose_cat', 'addr_state', 'earliest_cr_line']\n",
    "#for var in cat_vars:\n",
    "#    cat_list='var'+'_'+var\n",
    "#    cat_list = pd.get_dummies(data[var], prefix=var)\n",
    "#    data1=data.join(cat_list)\n",
    "#    data=data1\n",
    "\n",
    "#cat_vars=['verification_status', 'purpose_cat', 'addr_state', 'earliest_cr_line']\n",
    "#data_vars=data.columns.values.tolist()\n",
    "#to_keep=[i for i in data_vars if i not in cat_vars]"
   ]
  },
  {
   "cell_type": "code",
   "execution_count": 15,
   "metadata": {},
   "outputs": [],
   "source": [
    "#data_final=data[to_keep]\n",
    "data_final=data"
   ]
  },
  {
   "cell_type": "code",
   "execution_count": 16,
   "metadata": {},
   "outputs": [],
   "source": [
    "data_final = data_final.drop('Id', axis = 1)"
   ]
  },
  {
   "cell_type": "code",
   "execution_count": 17,
   "metadata": {},
   "outputs": [],
   "source": [
    "data_final = data_final.sample(n=10000)"
   ]
  },
  {
   "cell_type": "code",
   "execution_count": 18,
   "metadata": {},
   "outputs": [
    {
     "name": "stdout",
     "output_type": "stream",
     "text": [
      "11\n"
     ]
    }
   ],
   "source": [
    "print(len(data_final.columns))"
   ]
  },
  {
   "cell_type": "code",
   "execution_count": 19,
   "metadata": {
    "collapsed": true
   },
   "outputs": [],
   "source": [
    "X_data = data_final.loc[:, data_final.columns != 'is_bad']\n",
    "Y_data = data_final.loc[:, data_final.columns == 'is_bad']"
   ]
  },
  {
   "cell_type": "code",
   "execution_count": 20,
   "metadata": {},
   "outputs": [
    {
     "name": "stdout",
     "output_type": "stream",
     "text": [
      "10\n",
      "1\n"
     ]
    }
   ],
   "source": [
    "print(len(X_data.columns))\n",
    "print(len(Y_data.columns))"
   ]
  },
  {
   "cell_type": "code",
   "execution_count": 21,
   "metadata": {
    "collapsed": true
   },
   "outputs": [],
   "source": [
    "xTrain, xTest, yTrain, yTest = train_test_split(X_data, Y_data, test_size = 0.15, random_state = 0)"
   ]
  },
  {
   "cell_type": "code",
   "execution_count": 22,
   "metadata": {},
   "outputs": [
    {
     "data": {
      "text/plain": [
       "LogisticRegressionCV(Cs=[1.0, 10.0, 100.0, 1000.0, 10000.0],\n",
       "           class_weight=None, cv=5, dual=False, fit_intercept=True,\n",
       "           intercept_scaling=1.0, max_iter=10000, multi_class='warn',\n",
       "           n_jobs=None, penalty='l2', random_state=None, refit=True,\n",
       "           scoring=None, solver='lbfgs', tol=0.0001, verbose=0)"
      ]
     },
     "execution_count": 22,
     "metadata": {},
     "output_type": "execute_result"
    }
   ],
   "source": [
    "logreg=LogisticRegressionCV(Cs=list(np.power(10.0, np.arange(0, 5)))\n",
    "        ,penalty='l2'\n",
    "        ,cv=5\n",
    "        ,max_iter=10000\n",
    "        ,solver='lbfgs')\n",
    "\n",
    "logreg.fit(xTrain, yTrain['is_bad'])"
   ]
  },
  {
   "cell_type": "code",
   "execution_count": 23,
   "metadata": {},
   "outputs": [
    {
     "name": "stdout",
     "output_type": "stream",
     "text": [
      "0.8726666666666667\n"
     ]
    }
   ],
   "source": [
    "score = logreg.score(xTest, yTest['is_bad'])\n",
    "print(score)"
   ]
  },
  {
   "cell_type": "code",
   "execution_count": 24,
   "metadata": {},
   "outputs": [
    {
     "name": "stdout",
     "output_type": "stream",
     "text": [
      "0.38529803720785577\n"
     ]
    }
   ],
   "source": [
    "lg_probas = logreg.predict_proba(xTest)\n",
    "log_loss = log_loss(yTest, lg_probas)\n",
    "print(log_loss)"
   ]
  },
  {
   "cell_type": "code",
   "execution_count": 25,
   "metadata": {},
   "outputs": [
    {
     "name": "stdout",
     "output_type": "stream",
     "text": [
      "0.46600213599145607\n"
     ]
    },
    {
     "name": "stderr",
     "output_type": "stream",
     "text": [
      "/Users/hiuchan/anaconda/lib/python3.6/site-packages/sklearn/metrics/classification.py:1143: UndefinedMetricWarning: F-score is ill-defined and being set to 0.0 in labels with no predicted samples.\n",
      "  'precision', 'predicted', average, warn_for)\n"
     ]
    }
   ],
   "source": [
    "predict_y = logreg.predict(xTest)\n",
    "f1 = f1_score(yTest, predict_y, average=\"macro\")\n",
    "print(f1)"
   ]
  },
  {
   "cell_type": "code",
   "execution_count": 26,
   "metadata": {},
   "outputs": [
    {
     "data": {
      "text/plain": [
       "array([0, 0, 0, ..., 0, 0, 0])"
      ]
     },
     "execution_count": 26,
     "metadata": {},
     "output_type": "execute_result"
    }
   ],
   "source": [
    "predict_y"
   ]
  },
  {
   "cell_type": "code",
   "execution_count": 27,
   "metadata": {
    "collapsed": true
   },
   "outputs": [],
   "source": [
    "def create_baseline():\n",
    "    model = Sequential()\n",
    "    model.add(Dense(10, kernel_initializer='normal', activation='relu'))\n",
    "    model.add(Dense(1, kernel_initializer='normal', activation='sigmoid'))\n",
    "    model.compile(loss='binary_crossentropy', optimizer='adam', metrics=['accuracy'])"
   ]
  },
  {
   "cell_type": "code",
   "execution_count": 28,
   "metadata": {},
   "outputs": [
    {
     "name": "stdout",
     "output_type": "stream",
     "text": [
      "Epoch 1/10\n",
      "6799/6799 [==============================] - 0s 70us/step - loss: 2.2152 - acc: 0.8625\n",
      "Epoch 2/10\n",
      "6799/6799 [==============================] - 0s 59us/step - loss: 2.2152 - acc: 0.8625\n",
      "Epoch 3/10\n",
      "6799/6799 [==============================] - 0s 59us/step - loss: 2.2152 - acc: 0.8625\n",
      "Epoch 4/10\n",
      "6799/6799 [==============================] - 0s 57us/step - loss: 2.2152 - acc: 0.8625\n",
      "Epoch 5/10\n",
      "6799/6799 [==============================] - 0s 59us/step - loss: 2.2152 - acc: 0.8625\n",
      "Epoch 6/10\n",
      "6799/6799 [==============================] - 0s 58us/step - loss: 2.2152 - acc: 0.8625\n",
      "Epoch 7/10\n",
      "6799/6799 [==============================] - 0s 57us/step - loss: 2.2152 - acc: 0.8625\n",
      "Epoch 8/10\n",
      "6799/6799 [==============================] - 0s 59us/step - loss: 2.2152 - acc: 0.8625\n",
      "Epoch 9/10\n",
      "6799/6799 [==============================] - 0s 59us/step - loss: 2.2152 - acc: 0.8625: 0s - loss: 2.2510 - acc: \n",
      "Epoch 10/10\n",
      "6799/6799 [==============================] - 0s 57us/step - loss: 2.2152 - acc: 0.8625\n",
      "1701/1701 [==============================] - 0s 29us/step\n",
      "acc: 86.48%\n",
      "Epoch 1/10\n",
      "6800/6800 [==============================] - 0s 71us/step - loss: 2.0930 - acc: 0.8701\n",
      "Epoch 2/10\n",
      "6800/6800 [==============================] - 0s 56us/step - loss: 2.0930 - acc: 0.8701\n",
      "Epoch 3/10\n",
      "6800/6800 [==============================] - 0s 57us/step - loss: 2.0930 - acc: 0.8701\n",
      "Epoch 4/10\n",
      "6800/6800 [==============================] - 0s 57us/step - loss: 2.0930 - acc: 0.8701\n",
      "Epoch 5/10\n",
      "6800/6800 [==============================] - 0s 56us/step - loss: 2.0930 - acc: 0.8701\n",
      "Epoch 6/10\n",
      "6800/6800 [==============================] - 0s 57us/step - loss: 2.0930 - acc: 0.8701\n",
      "Epoch 7/10\n",
      "6800/6800 [==============================] - 0s 57us/step - loss: 2.0930 - acc: 0.8701\n",
      "Epoch 8/10\n",
      "6800/6800 [==============================] - 0s 57us/step - loss: 2.0930 - acc: 0.8701\n",
      "Epoch 9/10\n",
      "6800/6800 [==============================] - 0s 58us/step - loss: 2.0930 - acc: 0.8701\n",
      "Epoch 10/10\n",
      "6800/6800 [==============================] - 0s 59us/step - loss: 2.0930 - acc: 0.8701\n",
      "1700/1700 [==============================] - 0s 35us/step\n",
      "acc: 87.00%\n",
      "Epoch 1/10\n",
      "6800/6800 [==============================] - 1s 75us/step - loss: 2.0930 - acc: 0.8701\n",
      "Epoch 2/10\n",
      "6800/6800 [==============================] - 0s 58us/step - loss: 2.0930 - acc: 0.8701\n",
      "Epoch 3/10\n",
      "6800/6800 [==============================] - 0s 57us/step - loss: 2.0930 - acc: 0.8701\n",
      "Epoch 4/10\n",
      "6800/6800 [==============================] - 0s 57us/step - loss: 2.0930 - acc: 0.8701\n",
      "Epoch 5/10\n",
      "6800/6800 [==============================] - 0s 57us/step - loss: 2.0930 - acc: 0.8701\n",
      "Epoch 6/10\n",
      "6800/6800 [==============================] - 0s 57us/step - loss: 2.0930 - acc: 0.8701\n",
      "Epoch 7/10\n",
      "6800/6800 [==============================] - 0s 59us/step - loss: 2.0930 - acc: 0.8701\n",
      "Epoch 8/10\n",
      "6800/6800 [==============================] - 0s 60us/step - loss: 2.0930 - acc: 0.8701\n",
      "Epoch 9/10\n",
      "6800/6800 [==============================] - 0s 61us/step - loss: 2.0930 - acc: 0.8701\n",
      "Epoch 10/10\n",
      "6800/6800 [==============================] - 0s 59us/step - loss: 2.0930 - acc: 0.8701\n",
      "1700/1700 [==============================] - 0s 41us/step\n",
      "acc: 87.00%\n",
      "Epoch 1/10\n",
      "6800/6800 [==============================] - 1s 82us/step - loss: 2.0930 - acc: 0.8701\n",
      "Epoch 2/10\n",
      "6800/6800 [==============================] - 0s 61us/step - loss: 2.0930 - acc: 0.8701\n",
      "Epoch 3/10\n",
      "6800/6800 [==============================] - 0s 60us/step - loss: 2.0930 - acc: 0.8701\n",
      "Epoch 4/10\n",
      "6800/6800 [==============================] - 0s 57us/step - loss: 2.0930 - acc: 0.8701\n",
      "Epoch 5/10\n",
      "6800/6800 [==============================] - 0s 58us/step - loss: 2.0930 - acc: 0.8701\n",
      "Epoch 6/10\n",
      "6800/6800 [==============================] - 0s 59us/step - loss: 2.0930 - acc: 0.8701\n",
      "Epoch 7/10\n",
      "6800/6800 [==============================] - 0s 60us/step - loss: 2.0930 - acc: 0.8701\n",
      "Epoch 8/10\n",
      "6800/6800 [==============================] - 0s 58us/step - loss: 2.0930 - acc: 0.8701\n",
      "Epoch 9/10\n",
      "6800/6800 [==============================] - 0s 58us/step - loss: 2.0930 - acc: 0.8701\n",
      "Epoch 10/10\n",
      "6800/6800 [==============================] - 0s 58us/step - loss: 2.0930 - acc: 0.8701\n",
      "1700/1700 [==============================] - 0s 49us/step\n",
      "acc: 87.00%\n",
      "Epoch 1/10\n",
      "6801/6801 [==============================] - 1s 82us/step - loss: 13.8702 - acc: 0.1300\n",
      "Epoch 2/10\n",
      "6801/6801 [==============================] - 0s 63us/step - loss: 13.8702 - acc: 0.1300\n",
      "Epoch 3/10\n",
      "6801/6801 [==============================] - 0s 62us/step - loss: 13.8702 - acc: 0.1300\n",
      "Epoch 4/10\n",
      "6801/6801 [==============================] - 0s 62us/step - loss: 13.8702 - acc: 0.1300\n",
      "Epoch 5/10\n",
      "6801/6801 [==============================] - 0s 61us/step - loss: 13.8702 - acc: 0.1300\n",
      "Epoch 6/10\n",
      "6801/6801 [==============================] - 0s 62us/step - loss: 13.8702 - acc: 0.1300\n",
      "Epoch 7/10\n",
      "6801/6801 [==============================] - 0s 60us/step - loss: 13.8702 - acc: 0.1300\n",
      "Epoch 8/10\n",
      "6801/6801 [==============================] - 0s 59us/step - loss: 13.8702 - acc: 0.1300\n",
      "Epoch 9/10\n",
      "6801/6801 [==============================] - 0s 59us/step - loss: 13.8702 - acc: 0.1300\n",
      "Epoch 10/10\n",
      "6801/6801 [==============================] - 0s 58us/step - loss: 13.8702 - acc: 0.1300\n",
      "1699/1699 [==============================] - 0s 54us/step\n",
      "acc: 12.95%\n",
      "72.09% (+/- 29.57%)\n"
     ]
    }
   ],
   "source": [
    "\n",
    "kfold = StratifiedKFold(n_splits=5, shuffle=True)\n",
    "cvscores = []\n",
    "for train, test in kfold.split(xTrain.values, yTrain['is_bad'].values):\n",
    "  # create model\n",
    "    model = Sequential()\n",
    "    model.add(Dense(10, activation='relu'))\n",
    "    model.add(Dense(8, activation='relu'))\n",
    "    model.add(Dense(1, activation='sigmoid'))\n",
    "    model.compile(loss='binary_crossentropy', optimizer='adam', metrics=['accuracy'])\n",
    "    # Fit the model\n",
    "    model.fit(xTrain.values[train], yTrain['is_bad'].values[train], epochs=10, batch_size=20)\n",
    "    # evaluate the model\n",
    "    scores = model.evaluate(xTrain.values[test], yTrain['is_bad'].values[test])\n",
    "    print(\"%s: %.2f%%\" % (model.metrics_names[1], scores[1]*100))\n",
    "    cvscores.append(scores[1] * 100)\n",
    "print(\"%.2f%% (+/- %.2f%%)\" % (np.mean(cvscores), np.std(cvscores)))"
   ]
  },
  {
   "cell_type": "code",
   "execution_count": null,
   "metadata": {
    "collapsed": true
   },
   "outputs": [],
   "source": []
  }
 ],
 "metadata": {
  "kernelspec": {
   "display_name": "Python 3",
   "language": "python",
   "name": "python3"
  },
  "language_info": {
   "codemirror_mode": {
    "name": "ipython",
    "version": 3
   },
   "file_extension": ".py",
   "mimetype": "text/x-python",
   "name": "python",
   "nbconvert_exporter": "python",
   "pygments_lexer": "ipython3",
   "version": "3.6.7"
  }
 },
 "nbformat": 4,
 "nbformat_minor": 2
}
